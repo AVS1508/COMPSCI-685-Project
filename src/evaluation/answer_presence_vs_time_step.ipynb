{
 "cells": [
  {
   "cell_type": "code",
   "execution_count": 1,
   "metadata": {},
   "outputs": [],
   "source": [
    "import os\n",
    "import json\n",
    "import pandas as pd\n",
    "import matplotlib.pyplot as plt\n",
    "import seaborn as sns\n",
    "%matplotlib inline"
   ]
  },
  {
   "cell_type": "code",
   "execution_count": 2,
   "metadata": {},
   "outputs": [],
   "source": [
    "MODELS_INFO = {\n",
    "    'gpt2-large': 'recurring__gsm8k__gpt2-large__output.json',\n",
    "    'gemma-2b': 'recurring__gsm8k__gemma-2b__output.json',\n",
    "    'gemma-7b':  None,#'recurring__gsm8k__gemma-7b__output.json',\n",
    "}\n",
    "\n",
    "RECURRING_TIMESTEPS = 5"
   ]
  },
  {
   "cell_type": "code",
   "execution_count": 3,
   "metadata": {},
   "outputs": [],
   "source": [
    "def conv_float(x):\n",
    "    return float(x.replace(',', '')) if len(x) > 0 else float('-inf')\n",
    "\n",
    "def correct_answer_dist(instance, time_step, correct_answer):\n",
    "    index = time_step - 1\n",
    "    if len(instance['answer_distribution']) < time_step:\n",
    "        index = -1\n",
    "    answer_distribution = instance['answer_distribution'][index]\n",
    "    percentage = 0\n",
    "    for dist in answer_distribution:\n",
    "        if conv_float(dist[0]) == correct_answer:\n",
    "            percentage = dist[1]\n",
    "            break\n",
    "    return percentage\n",
    "\n",
    "def get_correct_answer_presence(model_name, time_steps):\n",
    "    if MODELS_INFO[model_name] is None:\n",
    "        return 0\n",
    "    file = os.path.join('../../results/', MODELS_INFO[model_name])\n",
    "    output = json.load(open(file))\n",
    "    \n",
    "    return sum([1 for instance in output if correct_answer_dist(instance, time_steps, conv_float(instance['ground_truth_answers'])) > 0]) / len(output)\n",
    "\n",
    "def get_percentage_of_correct_answers(model_name, time_steps):\n",
    "    if MODELS_INFO[model_name] is None:\n",
    "        return 0\n",
    "    file = os.path.join('../../results/', MODELS_INFO[model_name])\n",
    "    output = json.load(open(file))\n",
    "    \n",
    "    percentage = 0\n",
    "    for instance in output:\n",
    "        percentage += correct_answer_dist(instance, time_steps, conv_float(instance['ground_truth_answers']))\n",
    "    return percentage / len(output)"
   ]
  },
  {
   "cell_type": "code",
   "execution_count": 9,
   "metadata": {},
   "outputs": [
    {
     "name": "stdout",
     "output_type": "stream",
     "text": [
      "Processing gpt2-large at time step 1\n"
     ]
    },
    {
     "name": "stderr",
     "output_type": "stream",
     "text": [
      "C:\\Users\\AADAM\\AppData\\Local\\Temp\\ipykernel_45344\\3753665705.py:6: FutureWarning: The behavior of DataFrame concatenation with empty or all-NA entries is deprecated. In a future version, this will no longer exclude empty or all-NA columns when determining the result dtypes. To retain the old behavior, exclude the relevant entries before the concat operation.\n",
      "  plot_df = pd.concat([plot_df, pd.DataFrame([{\n"
     ]
    },
    {
     "name": "stdout",
     "output_type": "stream",
     "text": [
      "Processing gpt2-large at time step 2\n",
      "Processing gpt2-large at time step 3\n",
      "Processing gpt2-large at time step 4\n",
      "Processing gpt2-large at time step 5\n",
      "Processing gemma-2b at time step 1\n",
      "Processing gemma-2b at time step 2\n",
      "Processing gemma-2b at time step 3\n",
      "Processing gemma-2b at time step 4\n",
      "Processing gemma-2b at time step 5\n",
      "Processing gemma-7b at time step 1\n",
      "Processing gemma-7b at time step 2\n",
      "Processing gemma-7b at time step 3\n",
      "Processing gemma-7b at time step 4\n",
      "Processing gemma-7b at time step 5\n"
     ]
    }
   ],
   "source": [
    "plot_df = pd.DataFrame(columns=['model', 'time_step', 'correct_answer_presence', 'percentage_of_correct_answers'])\n",
    "\n",
    "for model_name in MODELS_INFO:\n",
    "    for time_step in range(1, RECURRING_TIMESTEPS + 1):\n",
    "        print(f'Processing {model_name} at time step {time_step}')\n",
    "        plot_df = pd.concat([plot_df, pd.DataFrame([{\n",
    "            'model': model_name,\n",
    "            'time_step': time_step,\n",
    "            'correct_answer_presence': get_correct_answer_presence(model_name, time_step),\n",
    "            'percentage_of_correct_answers': get_percentage_of_correct_answers(model_name, time_step)\n",
    "        }])], ignore_index=True)"
   ]
  },
  {
   "cell_type": "code",
   "execution_count": 10,
   "metadata": {},
   "outputs": [
    {
     "data": {
      "text/html": [
       "<div>\n",
       "<style scoped>\n",
       "    .dataframe tbody tr th:only-of-type {\n",
       "        vertical-align: middle;\n",
       "    }\n",
       "\n",
       "    .dataframe tbody tr th {\n",
       "        vertical-align: top;\n",
       "    }\n",
       "\n",
       "    .dataframe thead th {\n",
       "        text-align: right;\n",
       "    }\n",
       "</style>\n",
       "<table border=\"1\" class=\"dataframe\">\n",
       "  <thead>\n",
       "    <tr style=\"text-align: right;\">\n",
       "      <th></th>\n",
       "      <th>model</th>\n",
       "      <th>time_step</th>\n",
       "      <th>correct_answer_presence</th>\n",
       "      <th>percentage_of_correct_answers</th>\n",
       "    </tr>\n",
       "  </thead>\n",
       "  <tbody>\n",
       "    <tr>\n",
       "      <th>0</th>\n",
       "      <td>gpt2-large</td>\n",
       "      <td>1</td>\n",
       "      <td>0.105892</td>\n",
       "      <td>0.019748</td>\n",
       "    </tr>\n",
       "    <tr>\n",
       "      <th>1</th>\n",
       "      <td>gpt2-large</td>\n",
       "      <td>2</td>\n",
       "      <td>0.067561</td>\n",
       "      <td>0.016805</td>\n",
       "    </tr>\n",
       "    <tr>\n",
       "      <th>2</th>\n",
       "      <td>gpt2-large</td>\n",
       "      <td>3</td>\n",
       "      <td>0.072338</td>\n",
       "      <td>0.016165</td>\n",
       "    </tr>\n",
       "    <tr>\n",
       "      <th>3</th>\n",
       "      <td>gpt2-large</td>\n",
       "      <td>4</td>\n",
       "      <td>0.075409</td>\n",
       "      <td>0.016620</td>\n",
       "    </tr>\n",
       "    <tr>\n",
       "      <th>4</th>\n",
       "      <td>gpt2-large</td>\n",
       "      <td>5</td>\n",
       "      <td>0.073590</td>\n",
       "      <td>0.016094</td>\n",
       "    </tr>\n",
       "    <tr>\n",
       "      <th>5</th>\n",
       "      <td>gemma-2b</td>\n",
       "      <td>1</td>\n",
       "      <td>0.456096</td>\n",
       "      <td>0.165122</td>\n",
       "    </tr>\n",
       "    <tr>\n",
       "      <th>6</th>\n",
       "      <td>gemma-2b</td>\n",
       "      <td>2</td>\n",
       "      <td>0.462580</td>\n",
       "      <td>0.161368</td>\n",
       "    </tr>\n",
       "    <tr>\n",
       "      <th>7</th>\n",
       "      <td>gemma-2b</td>\n",
       "      <td>3</td>\n",
       "      <td>0.455414</td>\n",
       "      <td>0.162079</td>\n",
       "    </tr>\n",
       "    <tr>\n",
       "      <th>8</th>\n",
       "      <td>gemma-2b</td>\n",
       "      <td>4</td>\n",
       "      <td>0.458940</td>\n",
       "      <td>0.162292</td>\n",
       "    </tr>\n",
       "    <tr>\n",
       "      <th>9</th>\n",
       "      <td>gemma-2b</td>\n",
       "      <td>5</td>\n",
       "      <td>0.454959</td>\n",
       "      <td>0.160743</td>\n",
       "    </tr>\n",
       "    <tr>\n",
       "      <th>10</th>\n",
       "      <td>gemma-7b</td>\n",
       "      <td>1</td>\n",
       "      <td>0.000000</td>\n",
       "      <td>0.000000</td>\n",
       "    </tr>\n",
       "    <tr>\n",
       "      <th>11</th>\n",
       "      <td>gemma-7b</td>\n",
       "      <td>2</td>\n",
       "      <td>0.000000</td>\n",
       "      <td>0.000000</td>\n",
       "    </tr>\n",
       "    <tr>\n",
       "      <th>12</th>\n",
       "      <td>gemma-7b</td>\n",
       "      <td>3</td>\n",
       "      <td>0.000000</td>\n",
       "      <td>0.000000</td>\n",
       "    </tr>\n",
       "    <tr>\n",
       "      <th>13</th>\n",
       "      <td>gemma-7b</td>\n",
       "      <td>4</td>\n",
       "      <td>0.000000</td>\n",
       "      <td>0.000000</td>\n",
       "    </tr>\n",
       "    <tr>\n",
       "      <th>14</th>\n",
       "      <td>gemma-7b</td>\n",
       "      <td>5</td>\n",
       "      <td>0.000000</td>\n",
       "      <td>0.000000</td>\n",
       "    </tr>\n",
       "  </tbody>\n",
       "</table>\n",
       "</div>"
      ],
      "text/plain": [
       "         model time_step  correct_answer_presence  \\\n",
       "0   gpt2-large         1                 0.105892   \n",
       "1   gpt2-large         2                 0.067561   \n",
       "2   gpt2-large         3                 0.072338   \n",
       "3   gpt2-large         4                 0.075409   \n",
       "4   gpt2-large         5                 0.073590   \n",
       "5     gemma-2b         1                 0.456096   \n",
       "6     gemma-2b         2                 0.462580   \n",
       "7     gemma-2b         3                 0.455414   \n",
       "8     gemma-2b         4                 0.458940   \n",
       "9     gemma-2b         5                 0.454959   \n",
       "10    gemma-7b         1                 0.000000   \n",
       "11    gemma-7b         2                 0.000000   \n",
       "12    gemma-7b         3                 0.000000   \n",
       "13    gemma-7b         4                 0.000000   \n",
       "14    gemma-7b         5                 0.000000   \n",
       "\n",
       "    percentage_of_correct_answers  \n",
       "0                        0.019748  \n",
       "1                        0.016805  \n",
       "2                        0.016165  \n",
       "3                        0.016620  \n",
       "4                        0.016094  \n",
       "5                        0.165122  \n",
       "6                        0.161368  \n",
       "7                        0.162079  \n",
       "8                        0.162292  \n",
       "9                        0.160743  \n",
       "10                       0.000000  \n",
       "11                       0.000000  \n",
       "12                       0.000000  \n",
       "13                       0.000000  \n",
       "14                       0.000000  "
      ]
     },
     "execution_count": 10,
     "metadata": {},
     "output_type": "execute_result"
    }
   ],
   "source": [
    "plot_df "
   ]
  },
  {
   "cell_type": "code",
   "execution_count": 11,
   "metadata": {},
   "outputs": [
    {
     "data": {
      "text/plain": [
       "[]"
      ]
     },
     "execution_count": 11,
     "metadata": {},
     "output_type": "execute_result"
    },
    {
     "data": {
      "image/png": "[encoded data removed]",
      "text/plain": [
       "<Figure size 640x480 with 1 Axes>"
      ]
     },
     "metadata": {},
     "output_type": "display_data"
    }
   ],
   "source": [
    "sns.lineplot(data=plot_df, x='time_step', y='correct_answer_presence', hue='model')\n",
    "plt.plot()"
   ]
  },
  {
   "cell_type": "code",
   "execution_count": 12,
   "metadata": {},
   "outputs": [
    {
     "data": {
      "text/plain": [
       "[]"
      ]
     },
     "execution_count": 12,
     "metadata": {},
     "output_type": "execute_result"
    },
    {
     "data": {
      "image/png": "[encoded data removed]",
      "text/plain": [
       "<Figure size 640x480 with 1 Axes>"
      ]
     },
     "metadata": {},
     "output_type": "display_data"
    }
   ],
   "source": [
    "sns.lineplot(data=plot_df, x='time_step', y='percentage_of_correct_answers', hue='model')\n",
    "plt.plot()"
   ]
  }
 ],
 "metadata": {
  "kernelspec": {
   "display_name": "Python 3",
   "language": "python",
   "name": "python3"
  },
  "language_info": {
   "codemirror_mode": {
    "name": "ipython",
    "version": 3
   },
   "file_extension": ".py",
   "mimetype": "text/x-python",
   "name": "python",
   "nbconvert_exporter": "python",
   "pygments_lexer": "ipython3",
   "version": "3.10.11"
  }
 },
 "nbformat": 4,
 "nbformat_minor": 2
}
