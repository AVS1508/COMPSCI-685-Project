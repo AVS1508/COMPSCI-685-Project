{
 "cells": [
  {
   "cell_type": "code",
   "execution_count": 3,
   "metadata": {},
   "outputs": [
    {
     "ename": "ModuleNotFoundError",
     "evalue": "No module named 'src'",
     "output_type": "error",
     "traceback": [
      "\u001b[0;31m---------------------------------------------------------------------------\u001b[0m",
      "\u001b[0;31mModuleNotFoundError\u001b[0m                       Traceback (most recent call last)",
      "Cell \u001b[0;32mIn[3], line 8\u001b[0m\n\u001b[1;32m      6\u001b[0m \u001b[38;5;28;01mfrom\u001b[39;00m \u001b[38;5;21;01mtyping\u001b[39;00m \u001b[38;5;28;01mimport\u001b[39;00m List, Dict, Callable\n\u001b[1;32m      7\u001b[0m \u001b[38;5;28;01mfrom\u001b[39;00m \u001b[38;5;21;01mnltk\u001b[39;00m \u001b[38;5;28;01mimport\u001b[39;00m ngrams\n\u001b[0;32m----> 8\u001b[0m \u001b[38;5;28;01mfrom\u001b[39;00m \u001b[38;5;21;01msrc\u001b[39;00m\u001b[38;5;21;01m.\u001b[39;00m\u001b[38;5;21;01mreasoning\u001b[39;00m\u001b[38;5;21;01m.\u001b[39;00m\u001b[38;5;21;01mreasoning_utils\u001b[39;00m \u001b[38;5;28;01mimport\u001b[39;00m get_majority_vote_answer\n",
      "\u001b[0;31mModuleNotFoundError\u001b[0m: No module named 'src'"
     ]
    }
   ],
   "source": [
    "## Import necessary libraries\n",
    "import os\n",
    "import json\n",
    "import deprecation\n",
    "import numpy as np\n",
    "from typing import List, Dict, Callable\n",
    "from nltk import ngrams\n",
    "from src.reasoning.reasoning_utils import get_majority_vote_answer"
   ]
  },
  {
   "cell_type": "code",
   "execution_count": 4,
   "metadata": {},
   "outputs": [
    {
     "ename": "TypeError",
     "evalue": "unsupported operand type(s) for |: 'type' and 'NoneType'",
     "output_type": "error",
     "traceback": [
      "\u001b[0;31m---------------------------------------------------------------------------\u001b[0m",
      "\u001b[0;31mTypeError\u001b[0m                                 Traceback (most recent call last)",
      "Cell \u001b[0;32mIn[4], line 16\u001b[0m\n\u001b[1;32m     13\u001b[0m     \u001b[38;5;66;03m# Return the majority vote accuracy\u001b[39;00m\n\u001b[1;32m     14\u001b[0m     \u001b[38;5;28;01mreturn\u001b[39;00m majority_vote_accuracy\n\u001b[0;32m---> 16\u001b[0m \u001b[38;5;28;01mdef\u001b[39;00m \u001b[38;5;21mcompute_majority_vote_accuracy\u001b[39m(qa_generations: List[\u001b[38;5;28mobject\u001b[39m], subsample_size: \u001b[38;5;28;43mint\u001b[39;49m\u001b[43m \u001b[49m\u001b[38;5;241;43m|\u001b[39;49m\u001b[43m \u001b[49m\u001b[38;5;28;43;01mNone\u001b[39;49;00m \u001b[38;5;241m=\u001b[39m \u001b[38;5;28;01mNone\u001b[39;00m) \u001b[38;5;241m-\u001b[39m\u001b[38;5;241m>\u001b[39m \u001b[38;5;28mfloat\u001b[39m:\n\u001b[1;32m     17\u001b[0m \u001b[38;5;250m    \u001b[39m\u001b[38;5;124;03m\"\"\"Compute the majority vote accuracy for the QA generation output\u001b[39;00m\n\u001b[1;32m     18\u001b[0m \n\u001b[1;32m     19\u001b[0m \u001b[38;5;124;03m    Args:\u001b[39;00m\n\u001b[0;32m   (...)\u001b[0m\n\u001b[1;32m     23\u001b[0m \u001b[38;5;124;03m        float: Majority vote accuracy\u001b[39;00m\n\u001b[1;32m     24\u001b[0m \u001b[38;5;124;03m    \"\"\"\u001b[39;00m\n\u001b[1;32m     25\u001b[0m     qa_correct \u001b[38;5;241m=\u001b[39m \u001b[38;5;241m0\u001b[39m\n",
      "\u001b[0;31mTypeError\u001b[0m: unsupported operand type(s) for |: 'type' and 'NoneType'"
     ]
    }
   ],
   "source": [
    "@deprecation.deprecated(deprecated_in=\"1.0\", details=\"Use the compute_majority_vote_accuracy function instead\")\n",
    "def compute_majority_vote_accuracy_trivial(qa_generations: List[object]) -> float:\n",
    "    \"\"\"Compute the majority vote accuracy trivially for the QA generation output\n",
    "\n",
    "    Args:\n",
    "        qa_generations (List[object]): List of question-answer generation outputs \n",
    "\n",
    "    Returns:\n",
    "        float: Majority vote accuracy\n",
    "    \"\"\"\n",
    "    # Compute the majority vote accuracy\n",
    "    majority_vote_accuracy = sum([1 for qa in qa_generations if qa['ground_truth_answer'] == qa['majority_vote_answer']]) / len(qa_generations)\n",
    "    # Return the majority vote accuracy\n",
    "    return majority_vote_accuracy\n",
    "\n",
    "def compute_majority_vote_accuracy(qa_generations: List[object], subsample_size: int | None = None) -> float:\n",
    "    \"\"\"Compute the majority vote accuracy for the QA generation output\n",
    "\n",
    "    Args:\n",
    "        qa_generations (List[object]): List of question-answer generation outputs \n",
    "\n",
    "    Returns:\n",
    "        float: Majority vote accuracy\n",
    "    \"\"\"\n",
    "    qa_correct = 0\n",
    "    for qa in qa_generations:\n",
    "        # Subsample the generated sequences\n",
    "        sentences = qa['generated_sequences'][:subsample_size]\n",
    "        # Compute the majority vote answer for the QA generation\n",
    "        qa_majority_vote_accuracy = 1 if get_majority_vote_answer(sentences, \"GSM8K\") == qa['ground_truth_answer'] else 0\n",
    "        qa_correct += qa_majority_vote_accuracy\n",
    "    # Return the majority vote accuracy\n",
    "    return qa_correct / len(qa_generations)\n",
    "\n",
    "def compute_n_gram_diversity(qa_generations: List[object], subsample_size: int | None = None) -> float:\n",
    "    \"\"\"Compute the n-gram diversity for the QA generation output\n",
    "\n",
    "    Args:\n",
    "        qa_generations (List[object]): List of question-answer generation outputs\n",
    "\n",
    "    Returns:\n",
    "        float: n-gram diversity for 1-4 grams\n",
    "    \"\"\"\n",
    "    n_gram_diversity = 0.0\n",
    "    # Compute the n-gram diversity for 1-4 grams\n",
    "    for qa in qa_generations:\n",
    "        # Subsample the generated sequences\n",
    "        sentences = qa['generated_sequences'][:subsample_size]\n",
    "        # Compute the n-gram diversity for the QA generation\n",
    "        qa_n_gram_diversity = distinct_n_gram_helper(sentences)\n",
    "        n_gram_diversity += qa_n_gram_diversity\n",
    "    # Return the n-gram diversity\n",
    "    return n_gram_diversity / len(qa_generations)\n",
    "\n",
    "def distinct_n_gram_helper(sentences: List[str]):\n",
    "    \"\"\"Compute distinct-n for n in [1,4] a list of sentences\n",
    "    Args:\n",
    "        sentences (List[str]): a list of sentences\n",
    "    \n",
    "    Returns:\n",
    "        float: distinct-n score for n in [1,4]\n",
    "    \"\"\"\n",
    "    # Initialize the distinct-n score\n",
    "    distinct_n = 0.0\n",
    "    # Compute the distinct-n score for n in [1,4]\n",
    "    for n in range(1, 5):\n",
    "        corpus_n_grams = [*[ngrams(sentence, n) for sentence in sentences]]\n",
    "        distinct_n_grams = set(corpus_n_grams)\n",
    "        distinct_n += len(distinct_n_grams) / (len(corpus_n_grams) + np.finfo(float).eps)\n",
    "    # Return the distinct-n score\n",
    "    return distinct_n / 4\n"
   ]
  },
  {
   "cell_type": "code",
   "execution_count": null,
   "metadata": {},
   "outputs": [],
   "source": [
    "# Lists of datasets, strategies, and models \n",
    "DATASETS = [\"gsm8k\"]\n",
    "STRATEGIES = [\"baseline\", \"greedy\"]\n",
    "MODELS = [\"gpt2-large\",\"gemma-2b\", \"gemma-7b\"]\n",
    "\n",
    "# Mapping of metrics to their corresponding functions\n",
    "METRICS = {\n",
    "    \"accuracy\": compute_majority_vote_accuracy,\n",
    "    \"n-gram-diversity\": compute_n_gram_diversity,\n",
    "}\n",
    "\n",
    "# Mapping of (strategy, dataset, model) to their corresponding output file \n",
    "OUTPUT_FILE_TEMPLATE_FN: Callable[[str, str, str], str] = (\n",
    "    lambda strategy_name, dataset_name, model_name: f\"../../results/{strategy_name}__{dataset_name}__{model_name}__output.json\"\n",
    ")\n",
    "\n",
    "# List of sample sizes to subsample from the generated sequences\n",
    "SUBSAMPLE_SIZES = [5, 10, 20, 30, 40]"
   ]
  },
  {
   "cell_type": "code",
   "execution_count": null,
   "metadata": {},
   "outputs": [],
   "source": [
    "def compute_metrics(qa_generations: object) -> Dict[str, float]:\n",
    "    \"\"\"\n",
    "    Compute the metrics for subsamples of the QA generation output\n",
    "    \"\"\"\n",
    "    # Compute the metrics for the QA generation output\n",
    "    metrics = {}\n",
    "    for subsample_size in SUBSAMPLE_SIZES:\n",
    "        metrics[subsample_size] = {}\n",
    "        for metric_name in METRICS:\n",
    "            metrics[subsample_size][metric_name] = METRICS[metric_name](qa_generations, subsample_size)\n",
    "    # Return the metrics\n",
    "    return metrics"
   ]
  }
 ],
 "metadata": {
  "kernelspec": {
   "display_name": "cs685",
   "language": "python",
   "name": "python3"
  },
  "language_info": {
   "codemirror_mode": {
    "name": "ipython",
    "version": 3
   },
   "file_extension": ".py",
   "mimetype": "text/x-python",
   "name": "python",
   "nbconvert_exporter": "python",
   "pygments_lexer": "ipython3",
   "version": "3.9.19"
  }
 },
 "nbformat": 4,
 "nbformat_minor": 2
}
